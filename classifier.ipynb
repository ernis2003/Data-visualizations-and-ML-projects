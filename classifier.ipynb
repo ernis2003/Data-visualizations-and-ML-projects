{
 "cells": [
  {
   "cell_type": "code",
   "execution_count": 190,
   "metadata": {},
   "outputs": [],
   "source": [
    "import pandas as pd\n",
    "import matplotlib.pyplot as plt\n",
    "import numpy as np\n",
    "from sklearn.metrics import f1_score, accuracy_score, confusion_matrix\n",
    "from sklearn import svm\n",
    "from sklearn.model_selection import train_test_split\n",
    "from sklearn.ensemble import RandomForestClassifier\n",
    "from sklearn.tree import DecisionTreeClassifier\n",
    "from sklearn.linear_model import LogisticRegression\n",
    "\n",
    "df = pd.read_csv('loan_data.csv')\n",
    "\n",
    "np.random.seed(42)\n",
    "\n",
    "df = df.drop(columns=['Loan_ID'], axis=1)\n",
    "df = df.dropna(axis=0)"
   ]
  },
  {
   "cell_type": "code",
   "execution_count": 191,
   "metadata": {},
   "outputs": [
    {
     "name": "stdout",
     "output_type": "stream",
     "text": [
      "['Gender', 'Married', 'Education', 'Self_Employed', 'Property_Area', 'Loan_Status']\n"
     ]
    }
   ],
   "source": [
    "def Categorical_Columns(data):\n",
    "    categoricalValues = []\n",
    "    for i in range(len(data.columns)):\n",
    "        try:\n",
    "            int(data[data.columns[i]][0])\n",
    "            continue\n",
    "        except:\n",
    "            categoricalValues.append(data.columns[i])\n",
    "    return categoricalValues\n",
    "\n",
    "categorical_columns = Categorical_Columns(df)\n",
    "print(categorical_columns)\n",
    "\n",
    "categorical_to_int = [[1, 0], [1, 0], [1, 0, 2, 3, 5], [1, 0], [0, 1], [1, 3, 2], [0, 1]]\n",
    "\n",
    "def NormalizationData(data, categorical_columns, categorical_to_int):\n",
    "    normalized_data = data.copy()\n",
    "    for i in range(len(normalized_data.columns)):\n",
    "        if(data.columns[i] in categorical_columns or data.columns[i] == 'Dependents'):\n",
    "            normalized_data = normalized_data.replace((normalized_data[normalized_data.columns[i]].unique()), (categorical_to_int[0]))\n",
    "            categorical_to_int = categorical_to_int[1:]\n",
    "        normalized_data[normalized_data.columns[i]] = normalized_data[normalized_data.columns[i]] / max(normalized_data[normalized_data.columns[i]])\n",
    "    return normalized_data\n",
    "\n",
    "normalized_data = NormalizationData(df, categorical_columns, categorical_to_int)"
   ]
  },
  {
   "cell_type": "code",
   "execution_count": 192,
   "metadata": {},
   "outputs": [
    {
     "name": "stdout",
     "output_type": "stream",
     "text": [
      "\u001b[1;30;46mClassifier: SVC()\tAccuracy: 0.8064516129032258\u001b[0m\n"
     ]
    },
    {
     "name": "stderr",
     "output_type": "stream",
     "text": [
      "c:\\Users\\Ern\\AppData\\Local\\Programs\\Python\\Python311\\Lib\\site-packages\\sklearn\\utils\\validation.py:1183: DataConversionWarning: A column-vector y was passed when a 1d array was expected. Please change the shape of y to (n_samples, ), for example using ravel().\n",
      "  y = column_or_1d(y, warn=True)\n",
      "c:\\Users\\Ern\\AppData\\Local\\Programs\\Python\\Python311\\Lib\\site-packages\\sklearn\\base.py:1152: DataConversionWarning: A column-vector y was passed when a 1d array was expected. Please change the shape of y to (n_samples,), for example using ravel().\n",
      "  return fit_method(estimator, *args, **kwargs)\n"
     ]
    },
    {
     "name": "stdout",
     "output_type": "stream",
     "text": [
      "\u001b[1;30;46mClassifier: RandomForestClassifier()\tAccuracy: 0.8064516129032258\u001b[0m\n",
      "\u001b[1;30;46mClassifier: DecisionTreeClassifier()\tAccuracy: 0.8709677419354839\u001b[0m\n",
      "\u001b[1;30;46mClassifier: LogisticRegression()\tAccuracy: 0.8064516129032258\u001b[0m\n",
      "\u001b[1;30;42mBest model: DecisionTreeClassifier()\tScore: 0.8709677419354839\u001b[0m\n"
     ]
    },
    {
     "name": "stderr",
     "output_type": "stream",
     "text": [
      "c:\\Users\\Ern\\AppData\\Local\\Programs\\Python\\Python311\\Lib\\site-packages\\sklearn\\utils\\validation.py:1183: DataConversionWarning: A column-vector y was passed when a 1d array was expected. Please change the shape of y to (n_samples, ), for example using ravel().\n",
      "  y = column_or_1d(y, warn=True)\n"
     ]
    }
   ],
   "source": [
    "xcol = list(df.drop(columns = ['Loan_Status']).columns)\n",
    "ycol = ['Loan_Status']\n",
    "\n",
    "x_train, test0= train_test_split(normalized_data, test_size=0.2)\n",
    "test, val = train_test_split(test0, test_size=0.5)\n",
    "\n",
    "accuracy = []\n",
    "def TrainingModel(classifierType):\n",
    "\n",
    "    classifierType.fit(x_train[xcol], x_train[ycol])\n",
    "    prediction = classifierType.predict(test[xcol])\n",
    "\n",
    "    score = accuracy_score(test[ycol], prediction)\n",
    "    accuracy.append(score)\n",
    "    return (accuracy, score, prediction)\n",
    "\n",
    "(svm, rand_forest, decision_tree, log_regression) = (svm.SVC(), RandomForestClassifier(), DecisionTreeClassifier(), LogisticRegression())\n",
    "classifiers = [svm, rand_forest, decision_tree, log_regression]\n",
    "\n",
    "best_prediction_data = []\n",
    "best_accuracy = -1\n",
    "\n",
    "for i in range(len(classifiers)):\n",
    "    (data_model, acc, prediction) = TrainingModel(classifiers[i])\n",
    "    print(f\"\\033[1;30;46mClassifier: {classifiers[i]}\\tAccuracy: {acc}\\033[0m\")\n",
    "    if(best_accuracy < acc):\n",
    "        best_accuracy = acc\n",
    "        best_prediction_data = [] \n",
    "        best_prediction_data.append((classifiers[i], acc))\n",
    "\n",
    "print(f\"\\033[1;30;42mBest model: {best_prediction_data[0][0]}\\tScore: {best_prediction_data[0][1]}\\033[0m\")"
   ]
  },
  {
   "cell_type": "code",
   "execution_count": 193,
   "metadata": {},
   "outputs": [],
   "source": [
    "#Saving to csv\n",
    "\n",
    "final_data = pd.DataFrame(data = {'Predictions': prediction, 'Real values': list(test[ycol].reset_index().drop(columns=['index'])['Loan_Status'])})\n",
    "final_data['Predictions'] = final_data['Predictions'].astype(int)\n",
    "final_data['Real values'] = final_data['Real values'].astype(int)\n",
    "\n",
    "new_file = pd.DataFrame(data = {'Predictions': list(final_data['Predictions'] ), 'Real value': list(final_data['Real values'])})\n",
    "\n",
    "new_file.to_csv('Loan_prediction.csv', index=False)"
   ]
  }
 ],
 "metadata": {
  "kernelspec": {
   "display_name": "Python 3",
   "language": "python",
   "name": "python3"
  },
  "language_info": {
   "codemirror_mode": {
    "name": "ipython",
    "version": 3
   },
   "file_extension": ".py",
   "mimetype": "text/x-python",
   "name": "python",
   "nbconvert_exporter": "python",
   "pygments_lexer": "ipython3",
   "version": "3.11.5"
  }
 },
 "nbformat": 4,
 "nbformat_minor": 2
}
