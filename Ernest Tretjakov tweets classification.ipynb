{
 "cells": [
  {
   "cell_type": "code",
   "execution_count": 63,
   "metadata": {},
   "outputs": [],
   "source": [
    "import pandas as pd\n",
    "import time \n",
    "from sklearn.feature_extraction.text import CountVectorizer\n",
    "from sklearn.tree import DecisionTreeClassifier\n",
    "\n",
    "from sklearn.model_selection import train_test_split\n",
    "from sklearn.metrics import accuracy_score, confusion_matrix, f1_score\n",
    "\n",
    "\n",
    "data = pd.read_csv('Tweets.csv')\n",
    "data = data.drop('textID', axis=1)"
   ]
  },
  {
   "cell_type": "code",
   "execution_count": 64,
   "metadata": {},
   "outputs": [],
   "source": [
    "selected_text = data.drop('text', axis=1)\n",
    "selected_text.rename(columns = {'selected_text': 'text'}, inplace=True)\n",
    "data1 = data.drop('selected_text', axis=1)\n",
    "dataSet = pd.concat([selected_text, data1], axis=0)\n",
    "\n",
    "dataSet.dropna(inplace=True)\n",
    "dataSet.replace(['neutral', 'negative', 'positive'], [0, -1, 1], inplace=True)"
   ]
  },
  {
   "cell_type": "code",
   "execution_count": 65,
   "metadata": {},
   "outputs": [],
   "source": [
    "dataSet = dataSet[dataSet['text'].apply(lambda x: isinstance(x, str))]\n",
    "sentiment_column = dataSet['sentiment']\n",
    "\n",
    "sentiment_column.reset_index(drop=True, inplace=True)\n",
    "dataSet.reset_index(drop=True, inplace=True)"
   ]
  },
  {
   "cell_type": "code",
   "execution_count": 66,
   "metadata": {},
   "outputs": [
    {
     "name": "stdout",
     "output_type": "stream",
     "text": [
      "\u001b[1;30;46m\tVectorizer: CountVectorizer()Classifier: DecisionTreeClassifier() Time: 75.3982\u001b[0m\n",
      "0.8300582241630277\t0.8300582241630278\n",
      "[[2241  645  165]\n",
      " [ 172 4127  171]\n",
      " [ 272  443 2756]]\n"
     ]
    }
   ],
   "source": [
    "CountVect = CountVectorizer(lowercase=True)\n",
    "decisionTree = DecisionTreeClassifier()\n",
    "\n",
    "def TrainAndPredict(vectorizerType, classifierType, x_data, y_data):\n",
    "    start = time.perf_counter()\n",
    "    x_train, x_test, y_train, y_test = train_test_split(x_data, y_data, test_size=0.20, random_state=52, shuffle=True)\n",
    "    classifierType.fit(x_train, y_train)\n",
    "    predictions = classifierType.predict(x_test)\n",
    "    stop = time.perf_counter()\n",
    "    accuracy = accuracy_score(y_test, predictions)\n",
    "    f1 = f1_score(y_test, predictions, average='micro')\n",
    "    matrix = confusion_matrix(y_test, predictions)\n",
    "    print(f\"\\033[1;30;46m\\tVectorizer: {vectorizerType}Classifier: {classifierType} Time: {stop-start:.4f}\\033[0m\\n{accuracy}\\t{f1}\\n{matrix}\")\n",
    "\n",
    "    return (accuracy, f1, matrix)\n",
    "\n",
    "dataCount = CountVect.fit_transform(dataSet['text'])\n",
    "data = pd.DataFrame.sparse.from_spmatrix(dataCount)\n",
    "finalTable = pd.concat([data, sentiment_column], axis=1)\n",
    "\n",
    "x_col = finalTable.columns[:-1]\n",
    "y_col = finalTable.columns[-1]\n",
    "\n",
    "bestAccuracy = -1\n",
    "(acc, f1, matrix) = TrainAndPredict(CountVect, decisionTree, finalTable[x_col], finalTable[y_col])\n",
    "\n",
    "model_parameters = []\n",
    "bestAccuracy = acc\n",
    "model_parameters.append((acc, CountVect))"
   ]
  },
  {
   "cell_type": "code",
   "execution_count": 67,
   "metadata": {},
   "outputs": [],
   "source": [
    "import pickle\n",
    "\n",
    "pickle.dump(decisionTree, open('model.pkl', 'wb'))"
   ]
  }
 ],
 "metadata": {
  "kernelspec": {
   "display_name": "Python 3",
   "language": "python",
   "name": "python3"
  },
  "language_info": {
   "codemirror_mode": {
    "name": "ipython",
    "version": 3
   },
   "file_extension": ".py",
   "mimetype": "text/x-python",
   "name": "python",
   "nbconvert_exporter": "python",
   "pygments_lexer": "ipython3",
   "version": "3.11.5"
  }
 },
 "nbformat": 4,
 "nbformat_minor": 2
}
